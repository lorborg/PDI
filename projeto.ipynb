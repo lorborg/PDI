{
  "nbformat": 4,
  "nbformat_minor": 0,
  "metadata": {
    "colab": {
      "provenance": [],
      "collapsed_sections": [
        "KkFGXMSmohKV",
        "M4FRZJRSpS98"
      ]
    },
    "kernelspec": {
      "name": "python3",
      "display_name": "Python 3"
    },
    "language_info": {
      "name": "python"
    }
  },
  "cells": [
    {
      "cell_type": "code",
      "source": [
        "from google.colab import drive\n",
        "drive.mount('/content/drive/')"
      ],
      "metadata": {
        "id": "EOZbaTh1oqSE",
        "colab": {
          "base_uri": "https://localhost:8080/"
        },
        "outputId": "ad9ada68-4554-4d75-a8f9-f13aa31af1ba"
      },
      "execution_count": null,
      "outputs": [
        {
          "output_type": "stream",
          "name": "stdout",
          "text": [
            "Drive already mounted at /content/drive/; to attempt to forcibly remount, call drive.mount(\"/content/drive/\", force_remount=True).\n"
          ]
        }
      ]
    },
    {
      "cell_type": "markdown",
      "source": [
        "# **Bibliotecas**"
      ],
      "metadata": {
        "id": "KkFGXMSmohKV"
      }
    },
    {
      "cell_type": "code",
      "execution_count": null,
      "metadata": {
        "colab": {
          "base_uri": "https://localhost:8080/"
        },
        "id": "9iaMWCBvEbgR",
        "outputId": "d42c00af-42fd-4125-b361-888817f49e41"
      },
      "outputs": [
        {
          "output_type": "stream",
          "name": "stdout",
          "text": [
            "Requirement already satisfied: numpy in /usr/local/lib/python3.11/dist-packages (2.0.2)\n",
            "Requirement already satisfied: opencv-python in /usr/local/lib/python3.11/dist-packages (4.11.0.86)\n",
            "Requirement already satisfied: numpy>=1.21.2 in /usr/local/lib/python3.11/dist-packages (from opencv-python) (2.0.2)\n",
            "Requirement already satisfied: matplotlib in /usr/local/lib/python3.11/dist-packages (3.10.0)\n",
            "Requirement already satisfied: contourpy>=1.0.1 in /usr/local/lib/python3.11/dist-packages (from matplotlib) (1.3.1)\n",
            "Requirement already satisfied: cycler>=0.10 in /usr/local/lib/python3.11/dist-packages (from matplotlib) (0.12.1)\n",
            "Requirement already satisfied: fonttools>=4.22.0 in /usr/local/lib/python3.11/dist-packages (from matplotlib) (4.57.0)\n",
            "Requirement already satisfied: kiwisolver>=1.3.1 in /usr/local/lib/python3.11/dist-packages (from matplotlib) (1.4.8)\n",
            "Requirement already satisfied: numpy>=1.23 in /usr/local/lib/python3.11/dist-packages (from matplotlib) (2.0.2)\n",
            "Requirement already satisfied: packaging>=20.0 in /usr/local/lib/python3.11/dist-packages (from matplotlib) (24.2)\n",
            "Requirement already satisfied: pillow>=8 in /usr/local/lib/python3.11/dist-packages (from matplotlib) (11.1.0)\n",
            "Requirement already satisfied: pyparsing>=2.3.1 in /usr/local/lib/python3.11/dist-packages (from matplotlib) (3.2.3)\n",
            "Requirement already satisfied: python-dateutil>=2.7 in /usr/local/lib/python3.11/dist-packages (from matplotlib) (2.8.2)\n",
            "Requirement already satisfied: six>=1.5 in /usr/local/lib/python3.11/dist-packages (from python-dateutil>=2.7->matplotlib) (1.17.0)\n",
            "Requirement already satisfied: scikit-image in /usr/local/lib/python3.11/dist-packages (0.25.2)\n",
            "Requirement already satisfied: numpy>=1.24 in /usr/local/lib/python3.11/dist-packages (from scikit-image) (2.0.2)\n",
            "Requirement already satisfied: scipy>=1.11.4 in /usr/local/lib/python3.11/dist-packages (from scikit-image) (1.14.1)\n",
            "Requirement already satisfied: networkx>=3.0 in /usr/local/lib/python3.11/dist-packages (from scikit-image) (3.4.2)\n",
            "Requirement already satisfied: pillow>=10.1 in /usr/local/lib/python3.11/dist-packages (from scikit-image) (11.1.0)\n",
            "Requirement already satisfied: imageio!=2.35.0,>=2.33 in /usr/local/lib/python3.11/dist-packages (from scikit-image) (2.37.0)\n",
            "Requirement already satisfied: tifffile>=2022.8.12 in /usr/local/lib/python3.11/dist-packages (from scikit-image) (2025.3.30)\n",
            "Requirement already satisfied: packaging>=21 in /usr/local/lib/python3.11/dist-packages (from scikit-image) (24.2)\n",
            "Requirement already satisfied: lazy-loader>=0.4 in /usr/local/lib/python3.11/dist-packages (from scikit-image) (0.4)\n",
            "Requirement already satisfied: pillow in /usr/local/lib/python3.11/dist-packages (11.1.0)\n",
            "Requirement already satisfied: pytesseract in /usr/local/lib/python3.11/dist-packages (0.3.13)\n",
            "Requirement already satisfied: packaging>=21.3 in /usr/local/lib/python3.11/dist-packages (from pytesseract) (24.2)\n",
            "Requirement already satisfied: Pillow>=8.0.0 in /usr/local/lib/python3.11/dist-packages (from pytesseract) (11.1.0)\n",
            "Requirement already satisfied: language-tool-python in /usr/local/lib/python3.11/dist-packages (2.9.2)\n",
            "Requirement already satisfied: requests in /usr/local/lib/python3.11/dist-packages (from language-tool-python) (2.32.3)\n",
            "Requirement already satisfied: tqdm in /usr/local/lib/python3.11/dist-packages (from language-tool-python) (4.67.1)\n",
            "Requirement already satisfied: psutil in /usr/local/lib/python3.11/dist-packages (from language-tool-python) (5.9.5)\n",
            "Requirement already satisfied: toml in /usr/local/lib/python3.11/dist-packages (from language-tool-python) (0.10.2)\n",
            "Requirement already satisfied: charset-normalizer<4,>=2 in /usr/local/lib/python3.11/dist-packages (from requests->language-tool-python) (3.4.1)\n",
            "Requirement already satisfied: idna<4,>=2.5 in /usr/local/lib/python3.11/dist-packages (from requests->language-tool-python) (3.10)\n",
            "Requirement already satisfied: urllib3<3,>=1.21.1 in /usr/local/lib/python3.11/dist-packages (from requests->language-tool-python) (2.3.0)\n",
            "Requirement already satisfied: certifi>=2017.4.17 in /usr/local/lib/python3.11/dist-packages (from requests->language-tool-python) (2025.1.31)\n",
            "Reading package lists... Done\n",
            "Building dependency tree... Done\n",
            "Reading state information... Done\n",
            "tesseract-ocr is already the newest version (4.1.1-2.1build1).\n",
            "0 upgraded, 0 newly installed, 0 to remove and 30 not upgraded.\n",
            "Reading package lists... Done\n",
            "Building dependency tree... Done\n",
            "Reading state information... Done\n",
            "libtesseract-dev is already the newest version (4.1.1-2.1build1).\n",
            "0 upgraded, 0 newly installed, 0 to remove and 30 not upgraded.\n",
            "Reading package lists... Done\n",
            "Building dependency tree... Done\n",
            "Reading state information... Done\n",
            "tesseract-ocr-por is already the newest version (1:4.00~git30-7274cfa-1.1).\n",
            "0 upgraded, 0 newly installed, 0 to remove and 30 not upgraded.\n"
          ]
        }
      ],
      "source": [
        "if 1:\n",
        "    !pip install numpy\n",
        "    !pip install opencv-python\n",
        "    !pip install matplotlib\n",
        "    !pip install scikit-image\n",
        "    !pip install pillow\n",
        "    !pip install pytesseract\n",
        "    !pip install language-tool-python\n",
        "    !sudo apt install tesseract-ocr\n",
        "    !sudo apt install libtesseract-dev\n",
        "    !sudo apt install tesseract-ocr-por\n"
      ]
    },
    {
      "cell_type": "code",
      "source": [
        "# download morph.py from drive\n",
        "!pip install -U --no-cache-dir gdown --pre\n",
        "!wget https://raw.githubusercontent.com/fzampirolli/morph/main/morph.py"
      ],
      "metadata": {
        "colab": {
          "base_uri": "https://localhost:8080/"
        },
        "id": "tfndq_64Egjf",
        "outputId": "5ce88a12-ae84-41b0-cf6e-90614979457f"
      },
      "execution_count": null,
      "outputs": [
        {
          "output_type": "stream",
          "name": "stdout",
          "text": [
            "Requirement already satisfied: gdown in /usr/local/lib/python3.11/dist-packages (5.2.0)\n",
            "Requirement already satisfied: beautifulsoup4 in /usr/local/lib/python3.11/dist-packages (from gdown) (4.13.3)\n",
            "Requirement already satisfied: filelock in /usr/local/lib/python3.11/dist-packages (from gdown) (3.18.0)\n",
            "Requirement already satisfied: requests[socks] in /usr/local/lib/python3.11/dist-packages (from gdown) (2.32.3)\n",
            "Requirement already satisfied: tqdm in /usr/local/lib/python3.11/dist-packages (from gdown) (4.67.1)\n",
            "Requirement already satisfied: soupsieve>1.2 in /usr/local/lib/python3.11/dist-packages (from beautifulsoup4->gdown) (2.6)\n",
            "Requirement already satisfied: typing-extensions>=4.0.0 in /usr/local/lib/python3.11/dist-packages (from beautifulsoup4->gdown) (4.13.1)\n",
            "Requirement already satisfied: charset-normalizer<4,>=2 in /usr/local/lib/python3.11/dist-packages (from requests[socks]->gdown) (3.4.1)\n",
            "Requirement already satisfied: idna<4,>=2.5 in /usr/local/lib/python3.11/dist-packages (from requests[socks]->gdown) (3.10)\n",
            "Requirement already satisfied: urllib3<3,>=1.21.1 in /usr/local/lib/python3.11/dist-packages (from requests[socks]->gdown) (2.3.0)\n",
            "Requirement already satisfied: certifi>=2017.4.17 in /usr/local/lib/python3.11/dist-packages (from requests[socks]->gdown) (2025.1.31)\n",
            "Requirement already satisfied: PySocks!=1.5.7,>=1.5.6 in /usr/local/lib/python3.11/dist-packages (from requests[socks]->gdown) (1.7.1)\n",
            "--2025-04-09 22:26:26--  https://raw.githubusercontent.com/fzampirolli/morph/main/morph.py\n",
            "Resolving raw.githubusercontent.com (raw.githubusercontent.com)... 185.199.108.133, 185.199.109.133, 185.199.110.133, ...\n",
            "Connecting to raw.githubusercontent.com (raw.githubusercontent.com)|185.199.108.133|:443... connected.\n",
            "HTTP request sent, awaiting response... 200 OK\n",
            "Length: 42991 (42K) [text/plain]\n",
            "Saving to: ‘morph.py’\n",
            "\n",
            "morph.py            100%[===================>]  41.98K  --.-KB/s    in 0.01s   \n",
            "\n",
            "2025-04-09 22:26:26 (3.51 MB/s) - ‘morph.py’ saved [42991/42991]\n",
            "\n"
          ]
        }
      ]
    },
    {
      "cell_type": "code",
      "source": [
        "import numpy as np\n",
        "import cv2\n",
        "from google.colab.patches import cv2_imshow #  display de imagem\n",
        "from skimage import io\n",
        "from PIL import Image\n",
        "import matplotlib.pylab as plt\n",
        "from morph import *\n",
        "import pytesseract\n",
        "\n",
        "pytesseract.pytesseract.tesseract_cmd = '/usr/bin/tesseract'\n",
        "custom_config = r'--oem 3 --psm 6'"
      ],
      "metadata": {
        "id": "YsNhNeUolFzd"
      },
      "execution_count": null,
      "outputs": []
    },
    {
      "cell_type": "markdown",
      "source": [
        "# **Captura de Imagem da Camera usando uma webcam**"
      ],
      "metadata": {
        "id": "M4FRZJRSpS98"
      }
    },
    {
      "cell_type": "code",
      "source": [
        "from IPython.display import display, Javascript\n",
        "from google.colab.output import eval_js\n",
        "from base64 import b64decode"
      ],
      "metadata": {
        "id": "0tlET6-7pYYe"
      },
      "execution_count": null,
      "outputs": []
    },
    {
      "cell_type": "code",
      "source": [
        "def take_photo(filename, quality):\n",
        "  js = Javascript('''\n",
        "    async function takePhoto(quality) {\n",
        "      const div = document.createElement('div');\n",
        "      const capture = document.createElement('button');\n",
        "      capture.textContent = 'Capture';\n",
        "      div.appendChild(capture);\n",
        "\n",
        "      const video = document.createElement('video');\n",
        "      video.style.display = 'block';\n",
        "      const stream = await navigator.mediaDevices.getUserMedia({video: true});\n",
        "\n",
        "      document.body.appendChild(div);\n",
        "      div.appendChild(video);\n",
        "      video.srcObject = stream;\n",
        "      await video.play();\n",
        "\n",
        "\n",
        "      // Resize the output to fit the video element.\n",
        "      google.colab.output.setIframeHeight(document.documentElement.scrollHeight, true);\n",
        "\n",
        "      // Wait for Capture to be clicked.\n",
        "      await new Promise((resolve) => capture.onclick = resolve);\n",
        "\n",
        "      const canvas = document.createElement('canvas');\n",
        "      canvas.width = video.videoWidth;\n",
        "      canvas.height = video.videoHeight;\n",
        "      canvas.getContext('2d').drawImage(video, 0, 0);\n",
        "      stream.getVideoTracks()[0].stop();\n",
        "      div.remove();\n",
        "      return canvas.toDataURL('image/jpeg', quality);\n",
        "    }\n",
        "    ''')\n",
        "  display(js)\n",
        "  data = eval_js('takePhoto({})'.format(quality))\n",
        "  binary = b64decode(data.split(',')[1])\n",
        "  with open(filename, 'wb') as f:\n",
        "    f.write(binary)\n",
        "  return filename"
      ],
      "metadata": {
        "id": "_TwyCDVrpa87"
      },
      "execution_count": null,
      "outputs": []
    },
    {
      "cell_type": "markdown",
      "source": [
        "# **Processamento de Imagem**"
      ],
      "metadata": {
        "id": "cuOKRABrp1bn"
      }
    },
    {
      "cell_type": "code",
      "source": [
        "# 1. Aquisição de imagem (Webcam)\n",
        "def capture_image(image_path):\n",
        "  !gdown --id 1SQ0ueCgL_XuEj_0YnbW0epsqPA4j0S0C\n",
        "  image = cv2.imread(image_path)\n",
        "  # Converter a imagem para escala cinza\n",
        "  image_gray = cv2.cvtColor(image, cv2.COLOR_BGR2GRAY)\n",
        "  return image_gray"
      ],
      "metadata": {
        "id": "hDfGs9TQlJTj"
      },
      "execution_count": null,
      "outputs": []
    },
    {
      "cell_type": "code",
      "source": [
        "# 2. Pré processamento\n",
        "def process_image(image_gray):\n",
        "  # melhoria de contraste (aqui poded ser útil para imagens com iluminação irregular)\n",
        "  clahe = cv2.createCLAHE(clipLimit=2.0, tileGridSize=(8, 8))\n",
        "  contrast = clahe.apply(image_gray)\n",
        "\n",
        "  # remoção de ruídos\n",
        "  blurred = cv2.GaussianBlur(contrast, (3, 3), 0)  # Ideal para pré-OCR\n",
        "\n",
        "  # Limiarização adaptativa com média ponderada gaussiana\n",
        "  thresh = cv2.adaptiveThreshold(blurred, 255, cv2.ADAPTIVE_THRESH_GAUSSIAN_C, cv2.THRESH_BINARY, 11, 2)\n",
        "\n",
        "   # Dilatamento para engrossar caracteres finos\n",
        "   #aumentar a dilatção\n",
        "  kernel = np.ones((1,1), np.uint8) #aumentar o kernel ou mudar o kerne\n",
        "  dilated = cv2.dilate(thresh, kernel, iterations=1)\n",
        "\n",
        "  return dilated\n"
      ],
      "metadata": {
        "id": "gY6kXf6TlYdM"
      },
      "execution_count": null,
      "outputs": []
    },
    {
      "cell_type": "code",
      "source": [
        "def segment_text(image_processed):\n",
        "    # 1. Pré-processamento adicional para segmentação\n",
        "    kernel = cv2.getStructuringElement(cv2.MORPH_RECT, (3, 3))\n",
        "    dilated = cv2.dilate(image_processed, kernel, iterations=1)\n",
        "\n",
        "    # 2. Detecção de contornos (modo hierárquico para blocos aninhados)\n",
        "    contours, hierarchy = cv2.findContours(dilated, cv2.RETR_TREE, cv2.CHAIN_APPROX_SIMPLE)\n",
        "\n",
        "    # 3. Filtrar contornos por área e proporção (para descartar ruídos)\n",
        "    min_area = 50\n",
        "    max_area = 5000\n",
        "    text_blocks = []\n",
        "    segmented_img = cv2.cvtColor(image_processed, cv2.COLOR_GRAY2BGR)\n",
        "\n",
        "    for i, cnt in enumerate(contours):\n",
        "        area = cv2.contourArea(cnt)\n",
        "        x, y, w, h = cv2.boundingRect(cnt)\n",
        "        aspect_ratio = w / h\n",
        "\n",
        "        # Critérios para ser considerado texto\n",
        "        if (min_area < area < max_area) and (0.2 < aspect_ratio < 5):\n",
        "            cv2.rectangle(segmented_img, (x, y), (x+w, y+h), (0, 255, 0), 2)\n",
        "            text_blocks.append((x, y, w, h))  # Guarda coordenadas dos blocos\n",
        "\n",
        "    # 4. Ordenar blocos da esquerda para direita, de cima para baixo\n",
        "    text_blocks = sorted(text_blocks, key=lambda b: (b[1] // 20, b[0]))  # Agrupa por linhas\n",
        "\n",
        "    return segmented_img, text_blocks"
      ],
      "metadata": {
        "id": "KvVg2ZEzlfLx"
      },
      "execution_count": null,
      "outputs": []
    },
    {
      "cell_type": "code",
      "source": [
        "# 6. Pós-processamento (Correção de texto)\n",
        "# Entrada: Texto reconhecido com possíveis erros.\n",
        "# Saída: Texto refinado e corrigido em formato digital.\n",
        "\n",
        "import language_tool_python\n",
        "import re\n",
        "\n",
        "def corrigir_texto(texto_ocr):\n",
        "    tool = language_tool_python.LanguageTool('pt-BR')\n",
        "\n",
        "    # Ajuste de formatação simples\n",
        "    texto_formatado = texto_ocr.replace('\\n', ' ')\n",
        "    texto_formatado = re.sub(r'\\s+', ' ', texto_formatado)\n",
        "\n",
        "    # Correção ortográfica e gramatical\n",
        "    texto_corrigido = tool.correct(texto_formatado)\n",
        "\n",
        "    return texto_corrigido"
      ],
      "metadata": {
        "id": "s7wehKA8l1rM"
      },
      "execution_count": null,
      "outputs": []
    },
    {
      "cell_type": "markdown",
      "source": [
        "# **MAIN**"
      ],
      "metadata": {
        "id": "ORajUr0JyrTW"
      }
    },
    {
      "cell_type": "code",
      "source": [
        "# 7. Salvar no formato escolhido (txt, pdf, docx...)\n",
        "\n",
        "if __name__ == \"__main__\":\n",
        "  from IPython.display import Image\n",
        "  import os\n",
        "\n",
        "  image_path = \"/content/drive/MyDrive/Colab Notebooks/\"\n",
        "  filename=os.path.join(image_path,'photo1.jpg')\n",
        "  quality=0.8\n",
        "\n",
        "  try:\n",
        "    take_photo(filename, quality)\n",
        "\n",
        "    print('Imagem gravada em {}'.format(filename))\n",
        "\n",
        "    # Show the image which was just taken.\n",
        "    display(Image(filename))\n",
        "\n",
        "    image_gray = capture_image(filename)\n",
        "    image_processed = process_image(image_gray)\n",
        "\n",
        "    # Mostrar imagem processada\n",
        "    plt.figure(figsize=(8, 6))\n",
        "    plt.imshow(image_processed, cmap='gray')\n",
        "    plt.title('Imagem Processada para OCR')\n",
        "    plt.show()\n",
        "\n",
        "    # Segmentação\n",
        "    segmented_img, text_blocks = segment_text(image_processed)\n",
        "\n",
        "    # Mostrar segmentação\n",
        "    plt.figure(figsize=(8, 6))\n",
        "    plt.imshow(segmented_img)\n",
        "    plt.title('Blocos de Texto Detectados')\n",
        "    plt.show()\n",
        "\n",
        "    # Configuração otimizada para texto em parágrafos\n",
        "    custom_config = r'--oem 3 --psm 6 -c tessedit_char_whitelist=\"ABCDEFGHIJKLMNOPQRSTUVWXYZÇÃÂÊÁÉÍÓÚÀÜÖËÄ,.:;!?() \"'\n",
        "\n",
        "    # Reconhecimento do texto completo\n",
        "    full_text = pytesseract.image_to_string(image_processed, lang='por', config=custom_config)\n",
        "    print(\"TEXTO RECONHECIDO:\\n\", full_text)\n",
        "\n",
        "        # Reconhecimento por blocos (apenas se existirem blocos detectados)\n",
        "    if len(text_blocks) > 0:\n",
        "        print(\"\\nRECONHECIMENTO POR BLOCOS:\")\n",
        "        print(\"-\"*50)\n",
        "        for i, (x, y, w, h) in enumerate(text_blocks):\n",
        "            roi = image_processed[y:y+h, x:x+w]\n",
        "\n",
        "            # Mostrar cada bloco (opcional)\n",
        "            # plt.figure(), plt.imshow(roi, cmap='gray'), plt.title(f'Bloco {i}'), plt.show()\n",
        "\n",
        "            text = pytesseract.image_to_string(roi, lang='por', config='--psm 7')\n",
        "            print(f\"Bloco {i+1}: {text.strip()}\")\n",
        "        print(\"-\"*50)\n",
        "\n",
        "    else:\n",
        "      print(\"\\nNENHUM BLOCO DE TEXTO DETECTADO!\")\n",
        "\n",
        "    # Verificação final\n",
        "    print(\"\\nVERIFICAÇÃO:\")\n",
        "    print(f\"Total de blocos detectados: {len(text_blocks)}\")\n",
        "    print(f\"Tamanho da imagem processada: {image_processed.shape}\")\n",
        "\n",
        "    # Pós-processamento\n",
        "    texto_corrigido = corrigir_texto(full_text)\n",
        "    print(\"TEXTO CORRIGIDO:\\n\", texto_corrigido)\n",
        "    with open(\"texto_corrigido.txt\", \"w\", encoding=\"utf-8\") as f:\n",
        "      f.write(texto_corrigido)\n",
        "      print(\"Texto salvo em 'texto_corrigido.txt'\")\n",
        "\n",
        "\n",
        "  except Exception as err:\n",
        "    # Errors will be thrown if the user does not have a webcam or if they do not\n",
        "    # grant the page permission to access it.\n",
        "    print(str(err))\n"
      ],
      "metadata": {
        "id": "8aGOutJOgiP-"
      },
      "execution_count": null,
      "outputs": []
    }
  ]
}